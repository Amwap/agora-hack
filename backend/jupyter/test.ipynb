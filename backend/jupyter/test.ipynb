{
 "cells": [
  {
   "cell_type": "code",
   "execution_count": 82,
   "metadata": {},
   "outputs": [],
   "source": [
    "import requests\n",
    "from pprint import pp\n",
    "import json\n",
    "\n",
    "\n",
    "API_URL = 'https://dobalancer.foil.network:9087/api'\n",
    "ADDRESS = '75rUXmUxFnfYGJPaGKrcSFX6xRdh5Zaq9Y' # Счёт\n",
    "PUBLIC_KEY = '5KxHvW96Bvfj8VXBtkQrEb3Vjjgt1yndcv9qFqZ3oxCz'\n",
    "PRIVATE_KEY = 'MydHC1DfvqQsELgVSUbnetdmtTw9KHRMxHDjdTrGQ9bi4bD6QnPqmvktzVN2WrfxMWAHMryiu38xAn4fWc7XJhY'\n",
    "PASS = 'qweqweqwe'\n",
    "RAW_CODE = open('raw_code.txt', 'r').read()"
   ]
  },
  {
   "cell_type": "markdown",
   "metadata": {},
   "source": [
    "### a"
   ]
  },
  {
   "cell_type": "code",
   "execution_count": 94,
   "metadata": {},
   "outputs": [
    {
     "name": "stdout",
     "output_type": "stream",
     "text": [
      "200\n",
      "{'error': 207, 'message': 'Item person does not exist'}\n"
     ]
    }
   ],
   "source": [
    "url = f'/personbypublickey/{PUBLIC_KEY}/'\n",
    "\n",
    "headers = { 'content-type': 'application/json' }\n",
    "data = {}\n",
    "\n",
    "responce = requests.get(url=f\"{API_URL}{url}\", headers=headers, json=data)\n",
    "print(responce.status_code)\n",
    "pp(json.loads(responce.content.decode('utf-8')))"
   ]
  },
  {
   "cell_type": "markdown",
   "metadata": {},
   "source": [
    "### Что-то про создание | Не понятно"
   ]
  },
  {
   "cell_type": "code",
   "execution_count": null,
   "metadata": {},
   "outputs": [
    {
     "name": "stdout",
     "output_type": "stream",
     "text": [
      "200\n",
      "{'targetedWinValue': 79083,\n",
      " 'forgingValue': '107680',\n",
      " 'lastForgingPoint': 'null',\n",
      " 'winValue': 10700,\n",
      " 'previousTarget': 1353,\n",
      " 'height': 1007370}\n"
     ]
    }
   ],
   "source": [
    "url = f'/addressforge/{ADDRESS}/'\n",
    "\n",
    "headers = { 'content-type': 'application/json' }\n",
    "data = {}\n",
    "\n",
    "responce = requests.get(url=f\"{API_URL}{url}\", headers=headers, json=data)\n",
    "print(responce.status_code)\n",
    "pp(json.loads(responce.content.decode('utf-8')))"
   ]
  },
  {
   "cell_type": "code",
   "execution_count": 77,
   "metadata": {},
   "outputs": [
    {
     "name": "stdout",
     "output_type": "stream",
     "text": [
      "200\n",
      "{'targetedWinValue': 79083,\n",
      " 'forgingValue': '107680',\n",
      " 'lastForgingPoint': 'null',\n",
      " 'winValue': 10700,\n",
      " 'previousTarget': 1353,\n",
      " 'height': 1007370}\n"
     ]
    }
   ],
   "source": [
    "url = f'/addressforge/{ADDRESS}/'\n",
    "\n",
    "headers = { 'content-type': 'application/json' }\n",
    "data = {}\n",
    "\n",
    "responce = requests.get(url=f\"{API_URL}{url}\", headers=headers, json=data)\n",
    "print(responce.status_code)\n",
    "pp(json.loads(responce.content.decode('utf-8')))"
   ]
  },
  {
   "cell_type": "markdown",
   "metadata": {},
   "source": [
    "### Публичный ключ адреса | Не отработал!"
   ]
  },
  {
   "cell_type": "code",
   "execution_count": 76,
   "metadata": {},
   "outputs": [
    {
     "name": "stdout",
     "output_type": "stream",
     "text": [
      "200\n",
      "{'error': 8, 'message': 'Invalid Address'}\n"
     ]
    }
   ],
   "source": [
    "url = f'/addresspublickey/{ADDRESS}/'\n",
    "\n",
    "headers = { 'content-type': 'application/json' }\n",
    "data = {}\n",
    "\n",
    "responce = requests.get(url=f\"{API_URL}{url}\", headers=headers, json=data)\n",
    "print(responce.status_code)\n",
    "pp(json.loads(responce.content.decode('utf-8')))"
   ]
  },
  {
   "cell_type": "markdown",
   "metadata": {},
   "source": [
    "### Балансы Кошелька"
   ]
  },
  {
   "cell_type": "code",
   "execution_count": 71,
   "metadata": {},
   "outputs": [
    {
     "name": "stdout",
     "output_type": "stream",
     "text": [
      "200\n",
      "{'1051472': [[1, 1], [0, 0], [0, 0], [0, 0], [0, 0]],\n",
      " '1': [[0, 107680], [0, 0], [0, 0], [0, 0], [0, 32000]],\n",
      " '2': [[0, 1000.0], [0, 0], [0, 0], [0, 0], [0, 0]],\n",
      " '1156': [[0, 1000.0], [0, 0], [0, 0], [0, 0], [0, 0]],\n",
      " '7': [[0, 1000.0], [0, 0], [0, 0], [0, 0], [0, 0]],\n",
      " '12': [[0, 10.0], [0, 0], [0, 0], [0, 0], [0, 0]],\n",
      " '1036': [[0, 1000.0], [0, 0], [0, 0], [0, 0], [0, 0]],\n",
      " '14': [[0, 10.0], [0, 0], [0, 0], [0, 0], [0, 0]],\n",
      " '16': [[0, 1000.0], [0, 0], [0, 0], [0, 0], [0, 0]],\n",
      " '18': [[0, 90000.0], [0, 0], [0, 0], [0, 0], [0, 0]],\n",
      " '20': [[0, 1000.0], [0, 0], [0, 0], [0, 0], [0, 0]],\n",
      " '22': [[0, 1000.0], [0, 0], [0, 0], [0, 0], [0, 0]],\n",
      " '24': [[0, 1000.0], [0, 0], [0, 0], [0, 0], [0, 0]],\n",
      " '1756': [[0, 1000.0], [0, 0], [0, 0], [0, 0], [0, 0]],\n",
      " '1949': [[0, 1000.0], [0, 0], [0, 0], [0, 0], [0, 0]],\n",
      " '3103': [[0, 1000.0], [0, 0], [0, 0], [0, 0], [0, 0]],\n",
      " '3105': [[0, 1000.0], [0, 0], [0, 0], [0, 0], [0, 0]],\n",
      " '1826': [[0, 1000.0], [0, 0], [0, 0], [0, 0], [0, 0]],\n",
      " '3107': [[0, 1000.0], [0, 0], [0, 0], [0, 0], [0, 0]],\n",
      " '1702': [[0, 1000.0], [0, 0], [0, 0], [0, 0], [0, 0]],\n",
      " '1643': [[0, 700000.0], [0, 0], [0, 0], [0, 0], [0, 0]],\n",
      " '1840': [[0, 100000.0], [0, 0], [0, 0], [0, 0], [0, 0]],\n",
      " '1392': [[0, 1000.0], [0, 0], [0, 0], [0, 0], [0, 0]],\n",
      " '1978': [[0, 100000.0], [0, 0], [0, 0], [0, 0], [0, 0]],\n",
      " '3003': [[0, 100.0], [0, 0], [0, 0], [0, 0], [0, 0]]}\n"
     ]
    }
   ],
   "source": [
    "# ключ массива = ключ крипты \n",
    "\n",
    "url = f'/addressassets/{ADDRESS}/'\n",
    "\n",
    "headers = { 'content-type': 'application/json' }\n",
    "data = {}\n",
    "\n",
    "responce = requests.get(url=f\"{API_URL}{url}\", headers=headers, json=data)\n",
    "print(responce.status_code)\n",
    "pp(json.loads(responce.content.decode('utf-8')))"
   ]
  },
  {
   "cell_type": "markdown",
   "metadata": {},
   "source": [
    "### Баланс отдельного токена по его id"
   ]
  },
  {
   "cell_type": "code",
   "execution_count": 88,
   "metadata": {},
   "outputs": [
    {
     "name": "stdout",
     "output_type": "stream",
     "text": [
      "200\n",
      "[[1, 1], [0, 0], [0, 0], [0, 0], [0, 0]]\n"
     ]
    }
   ],
   "source": [
    "url = f'/addressassetbalance/{ADDRESS}/1051472'\n",
    "\n",
    "headers = { 'content-type': 'application/json' }\n",
    "data = {}\n",
    "\n",
    "responce = requests.get(url=f\"{API_URL}{url}\", headers=headers, json=data)\n",
    "print(responce.status_code)\n",
    "pp(json.loads(responce.content.decode('utf-8')))"
   ]
  },
  {
   "cell_type": "markdown",
   "metadata": {},
   "source": [
    "### Статистика комиссии"
   ]
  },
  {
   "cell_type": "code",
   "execution_count": 54,
   "metadata": {},
   "outputs": [
    {
     "name": "stdout",
     "output_type": "stream",
     "text": [
      "200 {\"result\":0,\"forged\":0,\"totalSpend\":0,\"referalAndGift\":0,\"totalEarn\":0}\n"
     ]
    }
   ],
   "source": [
    "url = f'/addressfeestats/{ADDRESS}/'\n",
    "\n",
    "headers = { 'content-type': 'application/json' }\n",
    "data = {}\n",
    "\n",
    "responce = requests.get(url=f\"{API_URL}{url}\", headers=headers, json=data)\n",
    "print(responce.status_code, responce.content.decode('utf-8'))"
   ]
  },
  {
   "cell_type": "markdown",
   "metadata": {},
   "source": [
    "### Генеративный баланс"
   ]
  },
  {
   "cell_type": "code",
   "execution_count": 51,
   "metadata": {},
   "outputs": [
    {
     "name": "stdout",
     "output_type": "stream",
     "text": [
      "200 10700\n"
     ]
    }
   ],
   "source": [
    "url = f'/addressgeneratingbalance/{ADDRESS}/'\n",
    "\n",
    "headers = { 'content-type': 'application/json' }\n",
    "data = {}\n",
    "\n",
    "responce = requests.get(url=f\"{API_URL}{url}\", headers=headers, json=data)\n",
    "print(responce.status_code, responce.content.decode('utf-8'))"
   ]
  },
  {
   "cell_type": "markdown",
   "metadata": {},
   "source": [
    "### Последний референс?"
   ]
  },
  {
   "cell_type": "code",
   "execution_count": 89,
   "metadata": {},
   "outputs": [
    {
     "name": "stdout",
     "output_type": "stream",
     "text": [
      "200 1652428540763\n"
     ]
    }
   ],
   "source": [
    "url = f'/addresslastreference/{ADDRESS}/'\n",
    "\n",
    "headers = { 'content-type': 'application/json' }\n",
    "data = {}\n",
    "\n",
    "responce = requests.get(url=f\"{API_URL}{url}\", headers=headers, json=data)\n",
    "print(responce.status_code, responce.content.decode('utf-8'))"
   ]
  },
  {
   "cell_type": "markdown",
   "metadata": {},
   "source": [
    "### Валидация адреса\n"
   ]
  },
  {
   "cell_type": "code",
   "execution_count": 53,
   "metadata": {},
   "outputs": [
    {
     "name": "stdout",
     "output_type": "stream",
     "text": [
      "200 true\n"
     ]
    }
   ],
   "source": [
    "# Валидация адреса\n",
    "\n",
    "url = f'/addressvalidate/{ADDRESS}/'\n",
    "\n",
    "headers = { 'content-type': 'application/json' }\n",
    "data = {}\n",
    "\n",
    "responce = requests.get(url=f\"{API_URL}{url}\", headers=headers, json=data)\n",
    "print(responce.status_code, responce.content.decode('utf-8'))"
   ]
  }
 ],
 "metadata": {
  "interpreter": {
   "hash": "31f2aee4e71d21fbe5cf8b01ff0e069b9275f58929596ceb00d14d90e3e16cd6"
  },
  "kernelspec": {
   "display_name": "Python 3.8.10 64-bit",
   "language": "python",
   "name": "python3"
  },
  "language_info": {
   "codemirror_mode": {
    "name": "ipython",
    "version": 3
   },
   "file_extension": ".py",
   "mimetype": "text/x-python",
   "name": "python",
   "nbconvert_exporter": "python",
   "pygments_lexer": "ipython3",
   "version": "3.8.10"
  },
  "orig_nbformat": 4
 },
 "nbformat": 4,
 "nbformat_minor": 2
}
